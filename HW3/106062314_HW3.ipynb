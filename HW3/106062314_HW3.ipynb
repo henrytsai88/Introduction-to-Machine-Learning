{
  "nbformat": 4,
  "nbformat_minor": 0,
  "metadata": {
    "colab": {
      "name": "106062314_HW3.ipynb",
      "provenance": [],
      "collapsed_sections": []
    },
    "kernelspec": {
      "display_name": "Python 3",
      "name": "python3"
    }
  },
  "cells": [
    {
      "cell_type": "code",
      "metadata": {
        "colab": {
          "base_uri": "https://localhost:8080/"
        },
        "id": "C4lfO6DRyzcn",
        "outputId": "662673cf-69bd-4200-e834-62455f90803d"
      },
      "source": [
        "import os\r\n",
        "import csv\r\n",
        "import keras\r\n",
        "import random\r\n",
        "import numpy as np\r\n",
        "import pandas as pd\r\n",
        "import seaborn as sns\r\n",
        "import matplotlib.pyplot as plt\r\n",
        "from tqdm import tqdm\r\n",
        "from keras.metrics import Precision, Recall\r\n",
        "from keras.preprocessing import image\r\n",
        "from keras.preprocessing.image import ImageDataGenerator\r\n",
        "from sklearn.model_selection import train_test_split\r\n",
        "from sklearn.metrics import auc, roc_curve, confusion_matrix, precision_score, recall_score, accuracy_score, f1_score\r\n",
        "\r\n",
        "import warnings\r\n",
        "warnings.filterwarnings('ignore')\r\n",
        "\r\n",
        "from google.colab import drive\r\n",
        "drive.mount(\"/content/drive\")\r\n",
        "\r\n",
        "dir = \"./drive/My Drive/ML/Hw3/\""
      ],
      "execution_count": null,
      "outputs": [
        {
          "output_type": "stream",
          "text": [
            "Drive already mounted at /content/drive; to attempt to forcibly remount, call drive.mount(\"/content/drive\", force_remount=True).\n"
          ],
          "name": "stdout"
        }
      ]
    },
    {
      "cell_type": "markdown",
      "metadata": {
        "id": "sqYMeamdeDmv"
      },
      "source": [
        "### Preprocess"
      ]
    },
    {
      "cell_type": "code",
      "metadata": {
        "colab": {
          "base_uri": "https://localhost:8080/",
          "height": 297
        },
        "id": "KG4Fo7xQ0-N3",
        "outputId": "98da4db3-3c5a-4fb8-b859-350e2dbdee0b"
      },
      "source": [
        "df = pd.read_csv(dir + \"cxr_label_train.csv\")\n",
        "patient_id = df['PATIENT ID'].tolist()\n",
        "label = np.array(df['hospital_outcome']).reshape(-1, 1)\n",
        "sns.countplot(df['hospital_outcome'], label=\"Sum\")"
      ],
      "execution_count": null,
      "outputs": [
        {
          "output_type": "execute_result",
          "data": {
            "text/plain": [
              "<matplotlib.axes._subplots.AxesSubplot at 0x7fe7f2744b38>"
            ]
          },
          "metadata": {
            "tags": []
          },
          "execution_count": 5
        },
        {
          "output_type": "display_data",
          "data": {
            "image/png": "[encoded data removed]",
            "text/plain": [
              "<Figure size 432x288 with 1 Axes>"
            ]
          },
          "metadata": {
            "tags": [],
            "needs_background": "light"
          }
        }
      ]
    },
    {
      "cell_type": "code",
      "metadata": {
        "colab": {
          "base_uri": "https://localhost:8080/"
        },
        "id": "P2i3SGXP3Th2",
        "outputId": "dca8645f-1b0f-4a04-bfbc-4317a49ab718"
      },
      "source": [
        "data = []\r\n",
        "for id in tqdm(patient_id):\r\n",
        "  filepath = dir + \"IML_CXR_TRAIN/\" + str(id) + \".jpg\"\r\n",
        "  if os.path.exists(filepath):\r\n",
        "    img = image.load_img(filepath, grayscale=True, target_size=(64, 64))\r\n",
        "    img = np.array(img)\r\n",
        "    data.append(img)\r\n",
        "data = np.array(data).reshape(-1, 64, 64, 1)\r\n",
        "\r\n",
        "# normalization\r\n",
        "data = data / 255.0"
      ],
      "execution_count": null,
      "outputs": [
        {
          "output_type": "stream",
          "text": [
            "100%|██████████| 1392/1392 [04:28<00:00,  5.18it/s]\n"
          ],
          "name": "stderr"
        }
      ]
    },
    {
      "cell_type": "code",
      "metadata": {
        "colab": {
          "base_uri": "https://localhost:8080/"
        },
        "id": "WxdcBj8Td_fV",
        "outputId": "fc31c3b4-8643-4fbd-a147-39c57ccc369b"
      },
      "source": [
        "def getNumericData(filepath, patient_id):\n",
        "  df = pd.read_csv(filepath)\n",
        "\n",
        "  # impute missing values\n",
        "  df = df.fillna(df.mean())\n",
        "\n",
        "  # encode class input to one-hot\n",
        "  df['sex'] = df['sex'].map({'MALE': 0, 'FEMALE': 1})\n",
        "  ed_diagnosis_list = ['sx_breathing_difficulty', 'sx_flu', 'sx_fever', 'sx_cough', 'sx_others']\n",
        "  for element in ed_diagnosis_list:\n",
        "    df[element] = df['ed_diagnosis'].map(lambda x: 1 if x == element else 0)\n",
        "\n",
        "  num_patient_id = np.array(df['PATIENT ID']).tolist()\n",
        "\n",
        "  # drop useless information\n",
        "  df = df.drop(['PATIENT ID', 'admission_datetime', 'ed_diagnosis'], axis=1)\n",
        "\n",
        "  # convert dataframe to numpy array\n",
        "  num_data_raw = np.array(df)\n",
        "\n",
        "  # extract data with patient_id\n",
        "  num_data = []\n",
        "  for id in patient_id:\n",
        "    row = num_patient_id.index(id)\n",
        "    num_data.append(num_data_raw[row])\n",
        "  num_data = np.array(num_data)\n",
        "  return num_data\n",
        "\n",
        "num_data = getNumericData(filepath=dir+\"hm_hospitales_covid_structured_30d_train.csv\", patient_id=patient_id)\n",
        "\n",
        "print(\"image data   :\", data.shape)\n",
        "print(\"numeric data :\", num_data.shape)\n",
        "print(\"label        :\", label.shape)"
      ],
      "execution_count": null,
      "outputs": [
        {
          "output_type": "stream",
          "text": [
            "image data   : (1392, 64, 64, 1)\n",
            "numeric data : (1392, 50)\n",
            "label        : (1392, 1)\n"
          ],
          "name": "stdout"
        }
      ]
    },
    {
      "cell_type": "code",
      "metadata": {
        "colab": {
          "base_uri": "https://localhost:8080/"
        },
        "id": "_a765a2tKop1",
        "outputId": "4bfba127-796a-42ba-9c1d-924e7371e7e4"
      },
      "source": [
        "# train test split\n",
        "train_data, val_data, train_num_data, val_num_data, train_label, val_label = train_test_split(data, num_data, label, test_size=0.2, random_state=0)\n",
        "print(\"image data   :\", train_data.shape, val_data.shape)\n",
        "print(\"numeric data :\", train_num_data.shape, val_num_data.shape)\n",
        "print(\"label        :\", train_label.shape, val_label.shape)"
      ],
      "execution_count": null,
      "outputs": [
        {
          "output_type": "stream",
          "text": [
            "image data   : (1113, 64, 64, 1) (279, 64, 64, 1)\n",
            "numeric data : (1113, 50) (279, 50)\n",
            "label        : (1113, 1) (279, 1)\n"
          ],
          "name": "stdout"
        }
      ]
    },
    {
      "cell_type": "code",
      "metadata": {
        "id": "6YFJpqxBRQxm",
        "colab": {
          "base_uri": "https://localhost:8080/"
        },
        "outputId": "c84f69c5-e958-451e-a202-e99b78d22c4c"
      },
      "source": [
        "# imbalanced data augmentation\n",
        "\n",
        "# extract training data that labeled with 1\n",
        "pairs = tuple(zip(train_data, train_label))\n",
        "pairs_0 = [x for x in pairs if x[1] == 0]\n",
        "pairs_1 = [x for x in pairs if x[1] == 1]\n",
        "train_data_1, train_label_1 = zip(*pairs_1)\n",
        "train_data_1 = np.array(train_data_1)\n",
        "train_label_1 = np.array(train_label_1)\n",
        "\n",
        "num_pairs = tuple(zip(train_num_data, train_label))\n",
        "num_pairs_1 = [x for x in num_pairs if x[1] == 1]\n",
        "train_num_data_1, _ = zip(*num_pairs_1)\n",
        "\n",
        "# image data augmentation\n",
        "datagen = ImageDataGenerator(featurewise_center=True,\n",
        "                             featurewise_std_normalization=True,\n",
        "                             rotation_range=5,\n",
        "                             width_shift_range=0.2,\n",
        "                             height_shift_range=0.2,\n",
        "                             horizontal_flip=True)\n",
        "\n",
        "sample = 0\n",
        "for x_batch, y_batch in datagen.flow(train_data_1, train_label_1, batch_size=1):\n",
        "  # print(len(pairs_1) + sample, len(pairs_0))\n",
        "  if len(pairs_1) + sample >= len(pairs_0):\n",
        "    break\n",
        "  train_data = np.concatenate((train_data, x_batch), axis=0)\n",
        "  train_label = np.concatenate((train_label, y_batch), axis=0)\n",
        "  # numeric data augmentation\n",
        "  for i in range(x_batch.shape[0]):\n",
        "    idx = random.randint(0, len(train_num_data_1)-1)\n",
        "    val = np.array(train_num_data_1[idx]).reshape(-1, 50)\n",
        "    train_num_data = np.concatenate((train_num_data, val), axis=0)\n",
        "  sample += x_batch.shape[0]\n",
        "print(train_data.shape, train_num_data.shape, train_label.shape)"
      ],
      "execution_count": null,
      "outputs": [
        {
          "output_type": "stream",
          "text": [
            "(1964, 64, 64, 1) (1964, 50) (1964, 1)\n"
          ],
          "name": "stdout"
        }
      ]
    },
    {
      "cell_type": "markdown",
      "metadata": {
        "id": "Rx3A-rPweF1q"
      },
      "source": [
        "### Training"
      ]
    },
    {
      "cell_type": "code",
      "metadata": {
        "id": "3qq5yYVsK0sr"
      },
      "source": [
        "def plot_loss():\r\n",
        "  plt.plot(history.history['loss'])\r\n",
        "  plt.plot(history.history['val_loss'])\r\n",
        "  plt.title('Model loss')\r\n",
        "  plt.ylabel('Loss')\r\n",
        "  plt.xlabel('Epoch')\r\n",
        "  plt.legend(['Train', 'Test'], loc='upper right')\r\n",
        "  plt.show()\r\n",
        "\r\n",
        "def plot_confmat(label, pred):\r\n",
        "  confmat = confusion_matrix(y_true=label, y_pred=pred)\r\n",
        "\r\n",
        "  fig, ax = plt.subplots(figsize=(4,4))\r\n",
        "  ax.matshow(confmat, cmap=plt.cm.Blues, alpha=0.3)\r\n",
        "  for i in range(confmat.shape[0]):\r\n",
        "      for j in range(confmat.shape[1]):\r\n",
        "          ax.text(x=j, y=i, s=confmat[i, j], va='center', ha='center')\r\n",
        "\r\n",
        "  plt.xlabel('Predicted label')\r\n",
        "  plt.ylabel('True label')\r\n",
        "\r\n",
        "  plt.tight_layout()\r\n",
        "  for item in ([ax.title, ax.xaxis.label, ax.yaxis.label] + ax.get_xticklabels() + ax.get_yticklabels()):\r\n",
        "      item.set_fontsize(20)\r\n",
        "  for item in (ax.get_xticklabels() + ax.get_yticklabels()):\r\n",
        "      item.set_fontsize(15)\r\n",
        "  plt.show()\r\n",
        "  return\r\n",
        "\r\n",
        "def plot_roc(label, pred):\r\n",
        "  fpr, tpr, _ = roc_curve(label, pred)\r\n",
        "  roc_auc = auc(fpr, tpr)\r\n",
        "  fig = plt.figure()\r\n",
        "  lw = 2\r\n",
        "  plt.plot(fpr, tpr, color='darkorange', lw=lw, label='ROC curve (area = %0.2f)' % roc_auc)\r\n",
        "  plt.plot([0, 1], [0, 1], color='navy', lw=lw, linestyle='--')\r\n",
        "  plt.xlim([0.0, 1.0])\r\n",
        "  plt.ylim([0.0, 1.0])\r\n",
        "  plt.xlabel('False Positive Rate')\r\n",
        "  plt.ylabel('True Positive Rate')\r\n",
        "  plt.legend(loc=\"lower right\")\r\n",
        "  plt.show()\r\n",
        "  return\r\n",
        "\r\n",
        "def evaluate(label, pred):\r\n",
        "  plot_roc(label, pred)\r\n",
        "  plot_confmat(label, pred)\r\n",
        "  print(\"accuracy: %.4f\" % (accuracy_score(label, pred)))\r\n",
        "  print(\"precision: %.4f\" % (precision_score(label, pred)))\r\n",
        "  print(\"recall: %.4f\" % (recall_score(label, pred)))\r\n",
        "  print(\"f1 score: %.4f\" % (f1_score(label, pred)))\r\n",
        "  return"
      ],
      "execution_count": null,
      "outputs": []
    },
    {
      "cell_type": "code",
      "metadata": {
        "colab": {
          "base_uri": "https://localhost:8080/"
        },
        "id": "MxozZ40f8gm2",
        "outputId": "98f86c31-d797-4853-8813-f4d6bfeefad1"
      },
      "source": [
        "def buildModel():\r\n",
        "  img_data = keras.layers.Input(shape=(64, 64, 1))\r\n",
        "  x = keras.layers.Conv2D(32, 6, strides=2, input_shape=(64, 64, 1), activation='relu')(img_data)\r\n",
        "  x = keras.layers.MaxPooling2D(pool_size=(2, 2))(x)\r\n",
        "  x = keras.layers.BatchNormalization()(x)\r\n",
        "  x = keras.layers.Conv2D(32, 3, strides=2, activation='relu')(x)\r\n",
        "  x = keras.layers.BatchNormalization()(x)\r\n",
        "  x = keras.layers.Conv2D(32, 3, strides=1, activation='relu')(x)\r\n",
        "  x = keras.layers.BatchNormalization()(x)\r\n",
        "  x = keras.layers.Flatten()(x)\r\n",
        "  x = keras.layers.Dense(units=128, activation='relu')(x)\r\n",
        "  x = keras.layers.Dense(units=1, activation='sigmoid')(x)\r\n",
        "  return keras.Model(inputs=img_data, outputs=x)\r\n",
        "\r\n",
        "model = buildModel()\r\n",
        "\r\n",
        "loss = keras.losses.BinaryCrossentropy()\r\n",
        "model.compile(optimizer='adam', loss=loss, metrics=['accuracy', Precision(), Recall()])\r\n",
        "model.summary()"
      ],
      "execution_count": null,
      "outputs": [
        {
          "output_type": "stream",
          "text": [
            "Model: \"model\"\n",
            "_________________________________________________________________\n",
            "Layer (type)                 Output Shape              Param #   \n",
            "=================================================================\n",
            "input_1 (InputLayer)         [(None, 64, 64, 1)]       0         \n",
            "_________________________________________________________________\n",
            "conv2d (Conv2D)              (None, 30, 30, 32)        1184      \n",
            "_________________________________________________________________\n",
            "max_pooling2d (MaxPooling2D) (None, 15, 15, 32)        0         \n",
            "_________________________________________________________________\n",
            "batch_normalization (BatchNo (None, 15, 15, 32)        128       \n",
            "_________________________________________________________________\n",
            "conv2d_1 (Conv2D)            (None, 7, 7, 32)          9248      \n",
            "_________________________________________________________________\n",
            "batch_normalization_1 (Batch (None, 7, 7, 32)          128       \n",
            "_________________________________________________________________\n",
            "conv2d_2 (Conv2D)            (None, 5, 5, 32)          9248      \n",
            "_________________________________________________________________\n",
            "batch_normalization_2 (Batch (None, 5, 5, 32)          128       \n",
            "_________________________________________________________________\n",
            "flatten (Flatten)            (None, 800)               0         \n",
            "_________________________________________________________________\n",
            "dense (Dense)                (None, 128)               102528    \n",
            "_________________________________________________________________\n",
            "dense_1 (Dense)              (None, 1)                 129       \n",
            "=================================================================\n",
            "Total params: 122,721\n",
            "Trainable params: 122,529\n",
            "Non-trainable params: 192\n",
            "_________________________________________________________________\n"
          ],
          "name": "stdout"
        }
      ]
    },
    {
      "cell_type": "code",
      "metadata": {
        "colab": {
          "base_uri": "https://localhost:8080/",
          "height": 995
        },
        "id": "FfJxAz6xi6NX",
        "outputId": "24cff44e-00e2-4f39-a9b6-4e218db316a4"
      },
      "source": [
        "history = model.fit(train_data, train_label,\n",
        "                    validation_data=(val_data, val_label),\n",
        "                    batch_size=64, epochs=20)\n",
        "\n",
        "plot_loss()"
      ],
      "execution_count": null,
      "outputs": [
        {
          "output_type": "stream",
          "text": [
            "Epoch 1/20\n",
            "18/18 [==============================] - 3s 103ms/step - loss: 0.4537 - accuracy: 0.8046 - precision: 0.1921 - recall: 0.1489 - val_loss: 0.6509 - val_accuracy: 0.8602 - val_precision: 0.2500 - val_recall: 0.1290\n",
            "Epoch 2/20\n",
            "18/18 [==============================] - 1s 73ms/step - loss: 0.2507 - accuracy: 0.9036 - precision: 0.7401 - recall: 0.2266 - val_loss: 0.6491 - val_accuracy: 0.8315 - val_precision: 0.3182 - val_recall: 0.4516\n",
            "Epoch 3/20\n",
            "18/18 [==============================] - 1s 66ms/step - loss: 0.1975 - accuracy: 0.9142 - precision: 0.8330 - recall: 0.3470 - val_loss: 0.6662 - val_accuracy: 0.7455 - val_precision: 0.2500 - val_recall: 0.6452\n",
            "Epoch 4/20\n",
            "18/18 [==============================] - 1s 67ms/step - loss: 0.1524 - accuracy: 0.9437 - precision: 0.9256 - recall: 0.5214 - val_loss: 0.8246 - val_accuracy: 0.1111 - val_precision: 0.1111 - val_recall: 1.0000\n",
            "Epoch 5/20\n",
            "18/18 [==============================] - 1s 66ms/step - loss: 0.1327 - accuracy: 0.9539 - precision: 0.9560 - recall: 0.6087 - val_loss: 0.7095 - val_accuracy: 0.3907 - val_precision: 0.1508 - val_recall: 0.9677\n",
            "Epoch 6/20\n",
            "18/18 [==============================] - 1s 66ms/step - loss: 0.0880 - accuracy: 0.9712 - precision: 0.9209 - recall: 0.7065 - val_loss: 0.8084 - val_accuracy: 0.1147 - val_precision: 0.1115 - val_recall: 1.0000\n",
            "Epoch 7/20\n",
            "18/18 [==============================] - 1s 66ms/step - loss: 0.0557 - accuracy: 0.9910 - precision: 0.9982 - recall: 0.9288 - val_loss: 0.9120 - val_accuracy: 0.1111 - val_precision: 0.1111 - val_recall: 1.0000\n",
            "Epoch 8/20\n",
            "18/18 [==============================] - 1s 66ms/step - loss: 0.0274 - accuracy: 1.0000 - precision: 1.0000 - recall: 1.0000 - val_loss: 1.0690 - val_accuracy: 0.1111 - val_precision: 0.1111 - val_recall: 1.0000\n",
            "Epoch 9/20\n",
            "18/18 [==============================] - 1s 67ms/step - loss: 0.0148 - accuracy: 1.0000 - precision: 1.0000 - recall: 1.0000 - val_loss: 1.1755 - val_accuracy: 0.1111 - val_precision: 0.1111 - val_recall: 1.0000\n",
            "Epoch 10/20\n",
            "18/18 [==============================] - 1s 66ms/step - loss: 0.0105 - accuracy: 1.0000 - precision: 1.0000 - recall: 1.0000 - val_loss: 1.1903 - val_accuracy: 0.1147 - val_precision: 0.1115 - val_recall: 1.0000\n",
            "Epoch 11/20\n",
            "18/18 [==============================] - 1s 66ms/step - loss: 0.0067 - accuracy: 1.0000 - precision: 1.0000 - recall: 1.0000 - val_loss: 1.3285 - val_accuracy: 0.1147 - val_precision: 0.1115 - val_recall: 1.0000\n",
            "Epoch 12/20\n",
            "18/18 [==============================] - 1s 68ms/step - loss: 0.0045 - accuracy: 1.0000 - precision: 1.0000 - recall: 1.0000 - val_loss: 1.3526 - val_accuracy: 0.1219 - val_precision: 0.1123 - val_recall: 1.0000\n",
            "Epoch 13/20\n",
            "18/18 [==============================] - 1s 67ms/step - loss: 0.0031 - accuracy: 1.0000 - precision: 1.0000 - recall: 1.0000 - val_loss: 1.3349 - val_accuracy: 0.1505 - val_precision: 0.1157 - val_recall: 1.0000\n",
            "Epoch 14/20\n",
            "18/18 [==============================] - 1s 65ms/step - loss: 0.0027 - accuracy: 1.0000 - precision: 1.0000 - recall: 1.0000 - val_loss: 1.3337 - val_accuracy: 0.1792 - val_precision: 0.1192 - val_recall: 1.0000\n",
            "Epoch 15/20\n",
            "18/18 [==============================] - 1s 66ms/step - loss: 0.0021 - accuracy: 1.0000 - precision: 1.0000 - recall: 1.0000 - val_loss: 1.2750 - val_accuracy: 0.2294 - val_precision: 0.1260 - val_recall: 1.0000\n",
            "Epoch 16/20\n",
            "18/18 [==============================] - 1s 66ms/step - loss: 0.0018 - accuracy: 1.0000 - precision: 1.0000 - recall: 1.0000 - val_loss: 1.2079 - val_accuracy: 0.2939 - val_precision: 0.1327 - val_recall: 0.9677\n",
            "Epoch 17/20\n",
            "18/18 [==============================] - 1s 67ms/step - loss: 0.0015 - accuracy: 1.0000 - precision: 1.0000 - recall: 1.0000 - val_loss: 1.1447 - val_accuracy: 0.3871 - val_precision: 0.1500 - val_recall: 0.9677\n",
            "Epoch 18/20\n",
            "18/18 [==============================] - 1s 68ms/step - loss: 0.0012 - accuracy: 1.0000 - precision: 1.0000 - recall: 1.0000 - val_loss: 1.0960 - val_accuracy: 0.4265 - val_precision: 0.1551 - val_recall: 0.9355\n",
            "Epoch 19/20\n",
            "18/18 [==============================] - 1s 66ms/step - loss: 0.0012 - accuracy: 1.0000 - precision: 1.0000 - recall: 1.0000 - val_loss: 0.9391 - val_accuracy: 0.5341 - val_precision: 0.1722 - val_recall: 0.8387\n",
            "Epoch 20/20\n",
            "18/18 [==============================] - 1s 66ms/step - loss: 0.0011 - accuracy: 1.0000 - precision: 1.0000 - recall: 1.0000 - val_loss: 0.8544 - val_accuracy: 0.5914 - val_precision: 0.1880 - val_recall: 0.8065\n"
          ],
          "name": "stdout"
        },
        {
          "output_type": "display_data",
          "data": {
            "image/png": "[encoded data removed]",
            "text/plain": [
              "<Figure size 432x288 with 1 Axes>"
            ]
          },
          "metadata": {
            "tags": [],
            "needs_background": "light"
          }
        }
      ]
    },
    {
      "cell_type": "code",
      "metadata": {
        "colab": {
          "base_uri": "https://localhost:8080/",
          "height": 645
        },
        "id": "JRge_FVn9Qsx",
        "outputId": "95c903d6-64f0-4605-c402-1537d2028d0c"
      },
      "source": [
        "predict_label = model.predict(val_data).round()\n",
        "evaluate(val_label, predict_label)"
      ],
      "execution_count": null,
      "outputs": [
        {
          "output_type": "display_data",
          "data": {
            "image/png": "[encoded data removed]",
            "text/plain": [
              "<Figure size 432x288 with 1 Axes>"
            ]
          },
          "metadata": {
            "tags": [],
            "needs_background": "light"
          }
        },
        {
          "output_type": "display_data",
          "data": {
            "image/png": "[encoded data removed]",
            "text/plain": [
              "<Figure size 288x288 with 1 Axes>"
            ]
          },
          "metadata": {
            "tags": [],
            "needs_background": "light"
          }
        },
        {
          "output_type": "stream",
          "text": [
            "accuracy: 0.8674\n",
            "precision: 0.4167\n",
            "recall: 0.4839\n",
            "f1 score: 0.4478\n"
          ],
          "name": "stdout"
        }
      ]
    },
    {
      "cell_type": "markdown",
      "metadata": {
        "id": "aauM95KRQzRe"
      },
      "source": [
        "### Training (bonus)"
      ]
    },
    {
      "cell_type": "code",
      "metadata": {
        "colab": {
          "base_uri": "https://localhost:8080/"
        },
        "id": "lt0FUD78Q7IE",
        "outputId": "b67ba988-5c51-440f-c801-7d4e60313fd1"
      },
      "source": [
        "def buildBonusModel():\n",
        "  img_data = keras.layers.Input(shape=(64, 64, 1))\n",
        "  num_data = keras.layers.Input(shape=(50))\n",
        "\n",
        "  # image data extraction\n",
        "  x = keras.layers.Conv2D(32, 6, strides=2, input_shape=(64, 64, 1), activation='relu')(img_data)\n",
        "  x = keras.layers.MaxPooling2D(pool_size=(2, 2))(x)\n",
        "  x = keras.layers.BatchNormalization()(x)\n",
        "  x = keras.layers.Conv2D(32, 3, strides=2, activation='relu')(x)\n",
        "  x = keras.layers.BatchNormalization()(x)\n",
        "  x = keras.layers.Conv2D(32, 3, strides=1, activation='relu')(x)\n",
        "  x = keras.layers.BatchNormalization()(x)\n",
        "  x = keras.layers.Flatten()(x)\n",
        "  x = keras.Model(inputs=img_data, outputs=x)\n",
        "\n",
        "  # numeric data extraction\n",
        "  y = keras.layers.Dense(units=32, activation=\"relu\")(num_data)\n",
        "  y = keras.layers.BatchNormalization()(y)\n",
        "  y = keras.layers.Dense(units=16, activation=\"relu\")(y)\n",
        "  y = keras.layers.BatchNormalization()(y)\n",
        "  y = keras.layers.Dense(units=8, activation=\"relu\")(y)\n",
        "  y = keras.layers.BatchNormalization()(y)\n",
        "  y = keras.Model(inputs=num_data, outputs=y)\n",
        "\n",
        "  # fully connected layer\n",
        "  combined = keras.layers.concatenate([x.output, y.output])\n",
        "  z = keras.layers.Dense(units=128, activation=\"relu\")(combined)\n",
        "  z = keras.layers.Dense(units=1, activation=\"sigmoid\")(z)\n",
        "\n",
        "  return keras.Model(inputs=[x.input, y.input], outputs=z)\n",
        "\n",
        "bonusModel = buildBonusModel()\n",
        "\n",
        "loss = keras.losses.BinaryCrossentropy()\n",
        "bonusModel.compile(optimizer='adam', loss=loss, metrics=['accuracy', Precision(), Recall()])\n",
        "bonusModel.summary()"
      ],
      "execution_count": null,
      "outputs": [
        {
          "output_type": "stream",
          "text": [
            "Model: \"model_4\"\n",
            "__________________________________________________________________________________________________\n",
            "Layer (type)                    Output Shape         Param #     Connected to                     \n",
            "==================================================================================================\n",
            "input_3 (InputLayer)            [(None, 64, 64, 1)]  0                                            \n",
            "__________________________________________________________________________________________________\n",
            "conv2d_6 (Conv2D)               (None, 30, 30, 32)   1184        input_3[0][0]                    \n",
            "__________________________________________________________________________________________________\n",
            "max_pooling2d_2 (MaxPooling2D)  (None, 15, 15, 32)   0           conv2d_6[0][0]                   \n",
            "__________________________________________________________________________________________________\n",
            "input_4 (InputLayer)            [(None, 50)]         0                                            \n",
            "__________________________________________________________________________________________________\n",
            "batch_normalization_6 (BatchNor (None, 15, 15, 32)   128         max_pooling2d_2[0][0]            \n",
            "__________________________________________________________________________________________________\n",
            "dense_4 (Dense)                 (None, 32)           1632        input_4[0][0]                    \n",
            "__________________________________________________________________________________________________\n",
            "conv2d_7 (Conv2D)               (None, 7, 7, 32)     9248        batch_normalization_6[0][0]      \n",
            "__________________________________________________________________________________________________\n",
            "batch_normalization_9 (BatchNor (None, 32)           128         dense_4[0][0]                    \n",
            "__________________________________________________________________________________________________\n",
            "batch_normalization_7 (BatchNor (None, 7, 7, 32)     128         conv2d_7[0][0]                   \n",
            "__________________________________________________________________________________________________\n",
            "dense_5 (Dense)                 (None, 16)           528         batch_normalization_9[0][0]      \n",
            "__________________________________________________________________________________________________\n",
            "conv2d_8 (Conv2D)               (None, 5, 5, 32)     9248        batch_normalization_7[0][0]      \n",
            "__________________________________________________________________________________________________\n",
            "batch_normalization_10 (BatchNo (None, 16)           64          dense_5[0][0]                    \n",
            "__________________________________________________________________________________________________\n",
            "batch_normalization_8 (BatchNor (None, 5, 5, 32)     128         conv2d_8[0][0]                   \n",
            "__________________________________________________________________________________________________\n",
            "dense_6 (Dense)                 (None, 8)            136         batch_normalization_10[0][0]     \n",
            "__________________________________________________________________________________________________\n",
            "flatten_2 (Flatten)             (None, 800)          0           batch_normalization_8[0][0]      \n",
            "__________________________________________________________________________________________________\n",
            "batch_normalization_11 (BatchNo (None, 8)            32          dense_6[0][0]                    \n",
            "__________________________________________________________________________________________________\n",
            "concatenate (Concatenate)       (None, 808)          0           flatten_2[0][0]                  \n",
            "                                                                 batch_normalization_11[0][0]     \n",
            "__________________________________________________________________________________________________\n",
            "dense_7 (Dense)                 (None, 128)          103552      concatenate[0][0]                \n",
            "__________________________________________________________________________________________________\n",
            "dense_8 (Dense)                 (None, 1)            129         dense_7[0][0]                    \n",
            "==================================================================================================\n",
            "Total params: 126,265\n",
            "Trainable params: 125,961\n",
            "Non-trainable params: 304\n",
            "__________________________________________________________________________________________________\n"
          ],
          "name": "stdout"
        }
      ]
    },
    {
      "cell_type": "code",
      "metadata": {
        "colab": {
          "base_uri": "https://localhost:8080/",
          "height": 995
        },
        "id": "bpOCcmk8i8Ke",
        "outputId": "c3e2ea4a-58b7-4082-ccc6-dba88edd9fc3"
      },
      "source": [
        "history = bonusModel.fit(x=[train_data, train_num_data], y=train_label,\n",
        "                         validation_data=([val_data, val_num_data], val_label),\n",
        "                         batch_size=64, epochs=20)\n",
        "\n",
        "plot_loss()"
      ],
      "execution_count": null,
      "outputs": [
        {
          "output_type": "stream",
          "text": [
            "Epoch 1/20\n",
            "31/31 [==============================] - 4s 79ms/step - loss: 0.5364 - accuracy: 0.7339 - precision_2: 0.7469 - recall_2: 0.6922 - val_loss: 0.7678 - val_accuracy: 0.1326 - val_precision_2: 0.1107 - val_recall_2: 0.9677\n",
            "Epoch 2/20\n",
            "31/31 [==============================] - 2s 71ms/step - loss: 0.3293 - accuracy: 0.8628 - precision_2: 0.8768 - recall_2: 0.8443 - val_loss: 0.8194 - val_accuracy: 0.1183 - val_precision_2: 0.1091 - val_recall_2: 0.9677\n",
            "Epoch 3/20\n",
            "31/31 [==============================] - 2s 64ms/step - loss: 0.2264 - accuracy: 0.9087 - precision_2: 0.9273 - recall_2: 0.8857 - val_loss: 0.8463 - val_accuracy: 0.1613 - val_precision_2: 0.1170 - val_recall_2: 1.0000\n",
            "Epoch 4/20\n",
            "31/31 [==============================] - 2s 66ms/step - loss: 0.1810 - accuracy: 0.9342 - precision_2: 0.9451 - recall_2: 0.9219 - val_loss: 0.8823 - val_accuracy: 0.2186 - val_precision_2: 0.1245 - val_recall_2: 1.0000\n",
            "Epoch 5/20\n",
            "31/31 [==============================] - 2s 64ms/step - loss: 0.1406 - accuracy: 0.9444 - precision_2: 0.9666 - recall_2: 0.9192 - val_loss: 0.6486 - val_accuracy: 0.6201 - val_precision_2: 0.1951 - val_recall_2: 0.7742\n",
            "Epoch 6/20\n",
            "31/31 [==============================] - 2s 65ms/step - loss: 0.1112 - accuracy: 0.9626 - precision_2: 0.9620 - recall_2: 0.9632 - val_loss: 0.6405 - val_accuracy: 0.6057 - val_precision_2: 0.1789 - val_recall_2: 0.7097\n",
            "Epoch 7/20\n",
            "31/31 [==============================] - 2s 66ms/step - loss: 0.0786 - accuracy: 0.9757 - precision_2: 0.9686 - recall_2: 0.9822 - val_loss: 0.8293 - val_accuracy: 0.4875 - val_precision_2: 0.1706 - val_recall_2: 0.9355\n",
            "Epoch 8/20\n",
            "31/31 [==============================] - 2s 65ms/step - loss: 0.0541 - accuracy: 0.9827 - precision_2: 0.9822 - recall_2: 0.9812 - val_loss: 0.3878 - val_accuracy: 0.8495 - val_precision_2: 0.3878 - val_recall_2: 0.6129\n",
            "Epoch 9/20\n",
            "31/31 [==============================] - 2s 66ms/step - loss: 0.0271 - accuracy: 0.9970 - precision_2: 0.9981 - recall_2: 0.9960 - val_loss: 0.3669 - val_accuracy: 0.8495 - val_precision_2: 0.3778 - val_recall_2: 0.5484\n",
            "Epoch 10/20\n",
            "31/31 [==============================] - 2s 65ms/step - loss: 0.0158 - accuracy: 0.9997 - precision_2: 0.9995 - recall_2: 0.9999 - val_loss: 0.7256 - val_accuracy: 0.6487 - val_precision_2: 0.2276 - val_recall_2: 0.9032\n",
            "Epoch 11/20\n",
            "31/31 [==============================] - 2s 66ms/step - loss: 0.0141 - accuracy: 0.9984 - precision_2: 0.9984 - recall_2: 0.9984 - val_loss: 1.1401 - val_accuracy: 0.4946 - val_precision_2: 0.1765 - val_recall_2: 0.9677\n",
            "Epoch 12/20\n",
            "31/31 [==============================] - 2s 67ms/step - loss: 0.0076 - accuracy: 1.0000 - precision_2: 1.0000 - recall_2: 1.0000 - val_loss: 0.7582 - val_accuracy: 0.6738 - val_precision_2: 0.2414 - val_recall_2: 0.9032\n",
            "Epoch 13/20\n",
            "31/31 [==============================] - 2s 66ms/step - loss: 0.0052 - accuracy: 1.0000 - precision_2: 1.0000 - recall_2: 1.0000 - val_loss: 1.0013 - val_accuracy: 0.6093 - val_precision_2: 0.2132 - val_recall_2: 0.9355\n",
            "Epoch 14/20\n",
            "31/31 [==============================] - 2s 67ms/step - loss: 0.0040 - accuracy: 1.0000 - precision_2: 1.0000 - recall_2: 1.0000 - val_loss: 0.5645 - val_accuracy: 0.7921 - val_precision_2: 0.3247 - val_recall_2: 0.8065\n",
            "Epoch 15/20\n",
            "31/31 [==============================] - 2s 67ms/step - loss: 0.0027 - accuracy: 1.0000 - precision_2: 1.0000 - recall_2: 1.0000 - val_loss: 0.6437 - val_accuracy: 0.7742 - val_precision_2: 0.3095 - val_recall_2: 0.8387\n",
            "Epoch 16/20\n",
            "31/31 [==============================] - 2s 66ms/step - loss: 0.0019 - accuracy: 1.0000 - precision_2: 1.0000 - recall_2: 1.0000 - val_loss: 0.9922 - val_accuracy: 0.6810 - val_precision_2: 0.2500 - val_recall_2: 0.9355\n",
            "Epoch 17/20\n",
            "31/31 [==============================] - 2s 67ms/step - loss: 0.0019 - accuracy: 1.0000 - precision_2: 1.0000 - recall_2: 1.0000 - val_loss: 0.6354 - val_accuracy: 0.8100 - val_precision_2: 0.3429 - val_recall_2: 0.7742\n",
            "Epoch 18/20\n",
            "31/31 [==============================] - 2s 66ms/step - loss: 0.0014 - accuracy: 1.0000 - precision_2: 1.0000 - recall_2: 1.0000 - val_loss: 0.6289 - val_accuracy: 0.8172 - val_precision_2: 0.3485 - val_recall_2: 0.7419\n",
            "Epoch 19/20\n",
            "31/31 [==============================] - 2s 67ms/step - loss: 0.0014 - accuracy: 1.0000 - precision_2: 1.0000 - recall_2: 1.0000 - val_loss: 0.5358 - val_accuracy: 0.8530 - val_precision_2: 0.4074 - val_recall_2: 0.7097\n",
            "Epoch 20/20\n",
            "31/31 [==============================] - 2s 66ms/step - loss: 9.8205e-04 - accuracy: 1.0000 - precision_2: 1.0000 - recall_2: 1.0000 - val_loss: 0.5478 - val_accuracy: 0.8566 - val_precision_2: 0.4118 - val_recall_2: 0.6774\n"
          ],
          "name": "stdout"
        },
        {
          "output_type": "display_data",
          "data": {
            "image/png": "[encoded data removed]",
            "text/plain": [
              "<Figure size 432x288 with 1 Axes>"
            ]
          },
          "metadata": {
            "tags": [],
            "needs_background": "light"
          }
        }
      ]
    },
    {
      "cell_type": "code",
      "metadata": {
        "colab": {
          "base_uri": "https://localhost:8080/",
          "height": 645
        },
        "id": "JKrLbXwl9Tzn",
        "outputId": "bd291da9-70a4-4572-fbab-20bd9d1df490"
      },
      "source": [
        "predict_label = bonusModel.predict([val_data, val_num_data]).round()\n",
        "evaluate(val_label, predict_label)"
      ],
      "execution_count": null,
      "outputs": [
        {
          "output_type": "display_data",
          "data": {
            "image/png": "[encoded data removed]",
            "text/plain": [
              "<Figure size 432x288 with 1 Axes>"
            ]
          },
          "metadata": {
            "tags": [],
            "needs_background": "light"
          }
        },
        {
          "output_type": "display_data",
          "data": {
            "image/png": "[encoded data removed]",
            "text/plain": [
              "<Figure size 288x288 with 1 Axes>"
            ]
          },
          "metadata": {
            "tags": [],
            "needs_background": "light"
          }
        },
        {
          "output_type": "stream",
          "text": [
            "accuracy: 0.8566\n",
            "precision: 0.4118\n",
            "recall: 0.6774\n",
            "f1 score: 0.5122\n"
          ],
          "name": "stdout"
        }
      ]
    },
    {
      "cell_type": "markdown",
      "metadata": {
        "id": "4_U8MBMReOcY"
      },
      "source": [
        "### Save Model"
      ]
    },
    {
      "cell_type": "code",
      "metadata": {
        "id": "XZV3b3CPKe6z"
      },
      "source": [
        "model.save(dir + \"output/106062314_HW3_Model.h5\")"
      ],
      "execution_count": null,
      "outputs": []
    },
    {
      "cell_type": "code",
      "metadata": {
        "id": "aW_GecbuKaYY"
      },
      "source": [
        "bonusModel.save(dir + \"output/Bonus_106062314_HW3_Model.h5\")"
      ],
      "execution_count": null,
      "outputs": []
    },
    {
      "cell_type": "markdown",
      "metadata": {
        "id": "Wq2fmJ6wpvEa"
      },
      "source": [
        "### Load Model"
      ]
    },
    {
      "cell_type": "code",
      "metadata": {
        "id": "NfquRBT_k1K-"
      },
      "source": [
        "model = keras.models.load_model(dir + \"output/106062314_HW3_Model.h5\")"
      ],
      "execution_count": null,
      "outputs": []
    },
    {
      "cell_type": "code",
      "metadata": {
        "id": "9fJd9hl1k1ra"
      },
      "source": [
        "bonusModel = keras.models.load_model(dir + \"output/Bonus_106062314_HW3_Model.h5\")"
      ],
      "execution_count": null,
      "outputs": []
    },
    {
      "cell_type": "code",
      "metadata": {
        "id": "INXx0YCqjwZa",
        "colab": {
          "base_uri": "https://localhost:8080/"
        },
        "outputId": "2601baf4-4515-4d0c-91b2-f6c20dd25ea2"
      },
      "source": [
        "test_patient_id = []\n",
        "for filename in os.listdir(dir + \"IML_CXR_TEST/\"):\n",
        "  test_patient_id.append(int(filename[:-4]))\n",
        "test_patient_id.sort()\n",
        "\n",
        "test_data = []\n",
        "for id in tqdm(test_patient_id):\n",
        "  filepath = dir + \"IML_CXR_TEST/\" + str(id) + \".jpg\"\n",
        "  img = image.load_img(filepath, grayscale=True, target_size=(64, 64))\n",
        "  img = np.array(img)\n",
        "  test_data.append(img)\n",
        "test_data = np.array(test_data).reshape(-1, 64, 64, 1)\n",
        "\n",
        "# normalization\n",
        "test_data = test_data / 255.0"
      ],
      "execution_count": null,
      "outputs": [
        {
          "output_type": "stream",
          "text": [
            "100%|██████████| 457/457 [00:01<00:00, 442.60it/s]\n"
          ],
          "name": "stderr"
        }
      ]
    },
    {
      "cell_type": "code",
      "metadata": {
        "id": "2caYxyWyf_Mc",
        "colab": {
          "base_uri": "https://localhost:8080/"
        },
        "outputId": "5cb7c39e-9444-4ca5-a6d7-51ee5491c94f"
      },
      "source": [
        "def getNumericData(filepath, patient_id):\r\n",
        "  df = pd.read_csv(filepath)\r\n",
        "\r\n",
        "  # impute missing values\r\n",
        "  df = df.fillna(df.mean())\r\n",
        "\r\n",
        "  # encode class input to one-hot\r\n",
        "  df['sex'] = df['sex'].map({'MALE': 0, 'FEMALE': 1})\r\n",
        "  ed_diagnosis_list = ['sx_breathing_difficulty', 'sx_flu', 'sx_fever', 'sx_cough', 'sx_others']\r\n",
        "  for element in ed_diagnosis_list:\r\n",
        "    df[element] = df['ed_diagnosis'].map(lambda x: 1 if x == element else 0)\r\n",
        "\r\n",
        "  num_patient_id = np.array(df['PATIENT ID']).tolist()\r\n",
        "\r\n",
        "  # drop useless information\r\n",
        "  df = df.drop(['PATIENT ID', 'admission_datetime', 'ed_diagnosis'], axis=1)\r\n",
        "\r\n",
        "  # convert dataframe to numpy array\r\n",
        "  num_data_raw = np.array(df)\r\n",
        "\r\n",
        "  # extract data with patient_id\r\n",
        "  num_data = []\r\n",
        "  for id in patient_id:\r\n",
        "    row = num_patient_id.index(id)\r\n",
        "    num_data.append(num_data_raw[row])\r\n",
        "  num_data = np.array(num_data)\r\n",
        "  return num_data\r\n",
        "\r\n",
        "test_num_data = getNumericData(filepath=dir+\"fixed_test.csv\", patient_id=test_patient_id)\r\n",
        "\r\n",
        "print(\"image data   :\", test_data.shape)\r\n",
        "print(\"numeric data :\", test_num_data.shape)"
      ],
      "execution_count": null,
      "outputs": [
        {
          "output_type": "stream",
          "text": [
            "image data   : (457, 64, 64, 1)\n",
            "numeric data : (457, 50)\n"
          ],
          "name": "stdout"
        }
      ]
    },
    {
      "cell_type": "code",
      "metadata": {
        "id": "lENiFysqL2aw"
      },
      "source": [
        "predict_label = model.predict(test_data).round()\n",
        "predict_label = np.array(predict_label)\n",
        "\n",
        "# save predictions\n",
        "df = pd.DataFrame(predict_label)\n",
        "df.columns = ['hospital_outcome']\n",
        "df.index = test_patient_id\n",
        "df.to_csv(dir + \"output/106062314.csv\")"
      ],
      "execution_count": null,
      "outputs": []
    },
    {
      "cell_type": "code",
      "metadata": {
        "id": "NnNeaa_2fzZw"
      },
      "source": [
        "predict_label = bonusModel.predict([test_data, test_num_data]).round()\n",
        "predict_label = np.array(predict_label)\n",
        "\n",
        "# save predictions\n",
        "df = pd.DataFrame(predict_label)\n",
        "df.columns = ['hospital_outcome']\n",
        "df.index = test_patient_id\n",
        "df.to_csv(dir + \"output/Bonus_106062314.csv\")"
      ],
      "execution_count": null,
      "outputs": []
    },
    {
      "cell_type": "code",
      "metadata": {
        "id": "MbqwGAiyRJpU"
      },
      "source": [
        ""
      ],
      "execution_count": null,
      "outputs": []
    }
  ]
}